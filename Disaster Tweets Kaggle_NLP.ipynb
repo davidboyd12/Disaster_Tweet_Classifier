{
 "cells": [
  {
   "cell_type": "code",
   "execution_count": 2,
   "id": "f0be0f16",
   "metadata": {},
   "outputs": [],
   "source": [
    "# Import libraries\n",
    "import pandas as pd\n",
    "import numpy as np\n",
    "from sklearn.metrics import accuracy_score, f1_score, confusion_matrix\n",
    "from sklearn.model_selection import train_test_split\n",
    "from sklearn.naive_bayes import MultinomialNB\n",
    "import keras\n",
    "\n",
    "import re, string\n",
    "import nltk\n",
    "from nltk.tokenize import word_tokenize\n",
    "from nltk.corpus import stopwords\n",
    "from nltk.stem import SnowballStemmer\n",
    "from nltk.corpus import wordnet\n",
    "from nltk.stem import WordNetLemmatizer\n",
    "\n",
    "from sklearn.feature_extraction.text import TfidfVectorizer, CountVectorizer\n",
    "import gensim\n",
    "from gensim.models import Word2Vec"
   ]
  },
  {
   "cell_type": "code",
   "execution_count": 3,
   "id": "67ec07c8",
   "metadata": {},
   "outputs": [],
   "source": [
    "import seaborn as sns\n",
    "import matplotlib.pyplot as plt"
   ]
  },
  {
   "cell_type": "code",
   "execution_count": 199,
   "id": "ea5e12d6",
   "metadata": {},
   "outputs": [],
   "source": [
    "plt.style.use(\"fivethirtyeight\")"
   ]
  },
  {
   "cell_type": "code",
   "execution_count": 4,
   "id": "7dee0f66",
   "metadata": {},
   "outputs": [],
   "source": [
    "df_train = pd.read_csv(\"C:\\\\Users\\\\boydd\\\\Downloads\\\\train (5).csv\")\n",
    "df_test = pd.read_csv(\"C:\\\\Users\\\\boydd\\\\Downloads\\\\test (5).csv\")"
   ]
  },
  {
   "cell_type": "code",
   "execution_count": 204,
   "id": "ae2adc85",
   "metadata": {},
   "outputs": [
    {
     "data": {
      "text/plain": [
       "<BarContainer object of 2 artists>"
      ]
     },
     "execution_count": 204,
     "metadata": {},
     "output_type": "execute_result"
    },
    {
     "data": {
      "image/png": "[encoded data removed]",
      "text/plain": [
       "<Figure size 432x288 with 1 Axes>"
      ]
     },
     "metadata": {
      "needs_background": "light"
     },
     "output_type": "display_data"
    }
   ],
   "source": [
    "counts = df_train['target'].value_counts()\n",
    "plt.bar(x=df_train['target'].unique(), height=counts)"
   ]
  },
  {
   "cell_type": "code",
   "execution_count": 7,
   "id": "864f2205",
   "metadata": {},
   "outputs": [
    {
     "data": {
      "text/plain": [
       "id             0\n",
       "keyword       61\n",
       "location    2533\n",
       "text           0\n",
       "target         0\n",
       "dtype: int64"
      ]
     },
     "execution_count": 7,
     "metadata": {},
     "output_type": "execute_result"
    }
   ],
   "source": [
    "df_train.isnull().sum()"
   ]
  },
  {
   "cell_type": "code",
   "execution_count": 5,
   "id": "5d846df7",
   "metadata": {},
   "outputs": [
    {
     "name": "stdout",
     "output_type": "stream",
     "text": [
      "15.167532864567411\n",
      "14.704744357438969\n"
     ]
    }
   ],
   "source": [
    "# Word counts\n",
    "df_train['word_count'] = df_train['text'].apply(lambda x: len(str(x).split()))\n",
    "print(df_train[df_train['target']==1]\n",
    "     ['word_count'].mean())\n",
    "print(df_train[df_train['target']==0]\n",
    "     ['word_count'].mean())"
   ]
  },
  {
   "cell_type": "code",
   "execution_count": 9,
   "id": "30842a6e",
   "metadata": {},
   "outputs": [
    {
     "data": {
      "image/png": "[encoded data removed]",
      "text/plain": [
       "<Figure size 720x288 with 2 Axes>"
      ]
     },
     "metadata": {
      "needs_background": "light"
     },
     "output_type": "display_data"
    }
   ],
   "source": [
    "# plot in histogram\n",
    "fig,(ax1,ax2)=plt.subplots(1,2,figsize=(10,4))\n",
    "train_words=df_train[df_train['target']==1]['word_count']\n",
    "ax1.hist(train_words,color='red')\n",
    "ax1.set_title('Disaster tweets')\n",
    "train_words=df_train[df_train['target']==0]['word_count']\n",
    "ax2.hist(train_words,color='green')\n",
    "ax2.set_title('Non-disaster tweets')\n",
    "fig.suptitle('Words per tweet')\n",
    "plt.show()"
   ]
  },
  {
   "cell_type": "code",
   "execution_count": 6,
   "id": "a9b1da25",
   "metadata": {},
   "outputs": [
    {
     "name": "stdout",
     "output_type": "stream",
     "text": [
      "108.11342097217977\n",
      "95.70681713496084\n"
     ]
    }
   ],
   "source": [
    "df_train['char_count'] = df_train['text'].apply(lambda x: len(str(x)))\n",
    "print(df_train[df_train['target']==1]['char_count'].mean()) #Disaster tweets\n",
    "print(df_train[df_train['target']==0]['char_count'].mean()) #Non-Disaster tweets"
   ]
  },
  {
   "cell_type": "code",
   "execution_count": 7,
   "id": "5af83b54",
   "metadata": {},
   "outputs": [],
   "source": [
    "# Text preprocessing\n",
    "def preprocess(text):\n",
    "    text = text.lower()\n",
    "    text = text.strip()\n",
    "    text = re.compile('<.*?>').sub('', text)\n",
    "    text = re.compile('[%s]' % re.escape(string.punctuation)).sub(' ', text)\n",
    "    text = re.sub('\\s+', ' ', text)\n",
    "    text = re.sub(r'\\[[0-9]*\\]', ' ', text)\n",
    "    text = re.sub(r'[^\\w\\s]', '', str(text).lower().strip())\n",
    "    text = re.sub(r'\\d',' ', text)\n",
    "    text = re.sub(r'\\s+', ' ', text)\n",
    "    return text\n",
    "\n",
    "# Remove stopwords\n",
    "def stopword(string):\n",
    "    a = [i for i in string.split() if i not in stopwords.words('english')]\n",
    "    return ' '.join(a)\n",
    "\n",
    "# Lemmatization\n",
    "wl = WordNetLemmatizer()\n",
    "# This is a helper function to map NTLK position tags\n",
    "def get_wordnet_pos(tag):\n",
    "    if tag.startswith('J'):\n",
    "        return wordnet.ADJ\n",
    "    elif tag.startswith('V'):\n",
    "        return wordnet.VERB\n",
    "    elif tag.startswith('N'):\n",
    "        return wordnet.NOUN\n",
    "    elif tag.startswith('R'):\n",
    "        return wordnet.ADV\n",
    "    else:\n",
    "        return wordnet.NOUN\n",
    "    \n",
    "# Tokenize the sentence\n",
    "def lemmatizer(string):\n",
    "    word_pos_tags = nltk.pos_tag(word_tokenize(string))\n",
    "    a = [wl.lemmatize(tag[0], get_wordnet_pos(tag[1])) for idx, tag in enumerate(word_pos_tags)]\n",
    "    return \" \".join(a)"
   ]
  },
  {
   "cell_type": "code",
   "execution_count": 12,
   "id": "37f6bb31",
   "metadata": {},
   "outputs": [
    {
     "data": {
      "text/html": [
       "<div>\n",
       "<style scoped>\n",
       "    .dataframe tbody tr th:only-of-type {\n",
       "        vertical-align: middle;\n",
       "    }\n",
       "\n",
       "    .dataframe tbody tr th {\n",
       "        vertical-align: top;\n",
       "    }\n",
       "\n",
       "    .dataframe thead th {\n",
       "        text-align: right;\n",
       "    }\n",
       "</style>\n",
       "<table border=\"1\" class=\"dataframe\">\n",
       "  <thead>\n",
       "    <tr style=\"text-align: right;\">\n",
       "      <th></th>\n",
       "      <th>id</th>\n",
       "      <th>keyword</th>\n",
       "      <th>location</th>\n",
       "      <th>text</th>\n",
       "      <th>target</th>\n",
       "      <th>word_count</th>\n",
       "      <th>char_count</th>\n",
       "      <th>clean_text</th>\n",
       "    </tr>\n",
       "  </thead>\n",
       "  <tbody>\n",
       "    <tr>\n",
       "      <th>0</th>\n",
       "      <td>1</td>\n",
       "      <td>NaN</td>\n",
       "      <td>NaN</td>\n",
       "      <td>Our Deeds are the Reason of this #earthquake M...</td>\n",
       "      <td>1</td>\n",
       "      <td>13</td>\n",
       "      <td>69</td>\n",
       "      <td>deed reason earthquake may allah forgive u</td>\n",
       "    </tr>\n",
       "    <tr>\n",
       "      <th>1</th>\n",
       "      <td>4</td>\n",
       "      <td>NaN</td>\n",
       "      <td>NaN</td>\n",
       "      <td>Forest fire near La Ronge Sask. Canada</td>\n",
       "      <td>1</td>\n",
       "      <td>7</td>\n",
       "      <td>38</td>\n",
       "      <td>forest fire near la ronge sask canada</td>\n",
       "    </tr>\n",
       "    <tr>\n",
       "      <th>2</th>\n",
       "      <td>5</td>\n",
       "      <td>NaN</td>\n",
       "      <td>NaN</td>\n",
       "      <td>All residents asked to 'shelter in place' are ...</td>\n",
       "      <td>1</td>\n",
       "      <td>22</td>\n",
       "      <td>133</td>\n",
       "      <td>resident ask shelter place notify officer evac...</td>\n",
       "    </tr>\n",
       "    <tr>\n",
       "      <th>3</th>\n",
       "      <td>6</td>\n",
       "      <td>NaN</td>\n",
       "      <td>NaN</td>\n",
       "      <td>13,000 people receive #wildfires evacuation or...</td>\n",
       "      <td>1</td>\n",
       "      <td>8</td>\n",
       "      <td>65</td>\n",
       "      <td>people receive wildfire evacuation order calif...</td>\n",
       "    </tr>\n",
       "    <tr>\n",
       "      <th>4</th>\n",
       "      <td>7</td>\n",
       "      <td>NaN</td>\n",
       "      <td>NaN</td>\n",
       "      <td>Just got sent this photo from Ruby #Alaska as ...</td>\n",
       "      <td>1</td>\n",
       "      <td>16</td>\n",
       "      <td>88</td>\n",
       "      <td>get sent photo ruby alaska smoke wildfires pou...</td>\n",
       "    </tr>\n",
       "  </tbody>\n",
       "</table>\n",
       "</div>"
      ],
      "text/plain": [
       "   id keyword location                                               text  \\\n",
       "0   1     NaN      NaN  Our Deeds are the Reason of this #earthquake M...   \n",
       "1   4     NaN      NaN             Forest fire near La Ronge Sask. Canada   \n",
       "2   5     NaN      NaN  All residents asked to 'shelter in place' are ...   \n",
       "3   6     NaN      NaN  13,000 people receive #wildfires evacuation or...   \n",
       "4   7     NaN      NaN  Just got sent this photo from Ruby #Alaska as ...   \n",
       "\n",
       "   target  word_count  char_count  \\\n",
       "0       1          13          69   \n",
       "1       1           7          38   \n",
       "2       1          22         133   \n",
       "3       1           8          65   \n",
       "4       1          16          88   \n",
       "\n",
       "                                          clean_text  \n",
       "0         deed reason earthquake may allah forgive u  \n",
       "1              forest fire near la ronge sask canada  \n",
       "2  resident ask shelter place notify officer evac...  \n",
       "3  people receive wildfire evacuation order calif...  \n",
       "4  get sent photo ruby alaska smoke wildfires pou...  "
      ]
     },
     "execution_count": 12,
     "metadata": {},
     "output_type": "execute_result"
    }
   ],
   "source": [
    "def finalpreprocess(string):\n",
    "    return lemmatizer(stopword(preprocess(string)))\n",
    "df_train['clean_text'] = df_train['text'].apply(lambda x: finalpreprocess(x))\n",
    "df_train.head()"
   ]
  },
  {
   "cell_type": "code",
   "execution_count": 13,
   "id": "28048b56",
   "metadata": {},
   "outputs": [
    {
     "data": {
      "text/html": [
       "<div>\n",
       "<style scoped>\n",
       "    .dataframe tbody tr th:only-of-type {\n",
       "        vertical-align: middle;\n",
       "    }\n",
       "\n",
       "    .dataframe tbody tr th {\n",
       "        vertical-align: top;\n",
       "    }\n",
       "\n",
       "    .dataframe thead th {\n",
       "        text-align: right;\n",
       "    }\n",
       "</style>\n",
       "<table border=\"1\" class=\"dataframe\">\n",
       "  <thead>\n",
       "    <tr style=\"text-align: right;\">\n",
       "      <th></th>\n",
       "      <th>id</th>\n",
       "      <th>keyword</th>\n",
       "      <th>location</th>\n",
       "      <th>text</th>\n",
       "      <th>clean_text</th>\n",
       "    </tr>\n",
       "  </thead>\n",
       "  <tbody>\n",
       "    <tr>\n",
       "      <th>0</th>\n",
       "      <td>0</td>\n",
       "      <td>NaN</td>\n",
       "      <td>NaN</td>\n",
       "      <td>Just happened a terrible car crash</td>\n",
       "      <td>happen terrible car crash</td>\n",
       "    </tr>\n",
       "    <tr>\n",
       "      <th>1</th>\n",
       "      <td>2</td>\n",
       "      <td>NaN</td>\n",
       "      <td>NaN</td>\n",
       "      <td>Heard about #earthquake is different cities, s...</td>\n",
       "      <td>heard earthquake different city stay safe ever...</td>\n",
       "    </tr>\n",
       "    <tr>\n",
       "      <th>2</th>\n",
       "      <td>3</td>\n",
       "      <td>NaN</td>\n",
       "      <td>NaN</td>\n",
       "      <td>there is a forest fire at spot pond, geese are...</td>\n",
       "      <td>forest fire spot pond geese flee across street...</td>\n",
       "    </tr>\n",
       "    <tr>\n",
       "      <th>3</th>\n",
       "      <td>9</td>\n",
       "      <td>NaN</td>\n",
       "      <td>NaN</td>\n",
       "      <td>Apocalypse lighting. #Spokane #wildfires</td>\n",
       "      <td>apocalypse light spokane wildfire</td>\n",
       "    </tr>\n",
       "    <tr>\n",
       "      <th>4</th>\n",
       "      <td>11</td>\n",
       "      <td>NaN</td>\n",
       "      <td>NaN</td>\n",
       "      <td>Typhoon Soudelor kills 28 in China and Taiwan</td>\n",
       "      <td>typhoon soudelor kill china taiwan</td>\n",
       "    </tr>\n",
       "  </tbody>\n",
       "</table>\n",
       "</div>"
      ],
      "text/plain": [
       "   id keyword location                                               text  \\\n",
       "0   0     NaN      NaN                 Just happened a terrible car crash   \n",
       "1   2     NaN      NaN  Heard about #earthquake is different cities, s...   \n",
       "2   3     NaN      NaN  there is a forest fire at spot pond, geese are...   \n",
       "3   9     NaN      NaN           Apocalypse lighting. #Spokane #wildfires   \n",
       "4  11     NaN      NaN      Typhoon Soudelor kills 28 in China and Taiwan   \n",
       "\n",
       "                                          clean_text  \n",
       "0                          happen terrible car crash  \n",
       "1  heard earthquake different city stay safe ever...  \n",
       "2  forest fire spot pond geese flee across street...  \n",
       "3                  apocalypse light spokane wildfire  \n",
       "4                 typhoon soudelor kill china taiwan  "
      ]
     },
     "execution_count": 13,
     "metadata": {},
     "output_type": "execute_result"
    }
   ],
   "source": [
    "df_test['clean_text'] = df_test['text'].apply(lambda x: finalpreprocess(x))\n",
    "df_test.head()"
   ]
  },
  {
   "cell_type": "code",
   "execution_count": 14,
   "id": "51144dcf",
   "metadata": {},
   "outputs": [],
   "source": [
    "test_text = df_test['clean_text']"
   ]
  },
  {
   "cell_type": "code",
   "execution_count": 15,
   "id": "9e3b02a5",
   "metadata": {},
   "outputs": [],
   "source": [
    "# Vectorize the text\n",
    "X_train, X_test, y_train, y_test = train_test_split(df_train[\"clean_text\"], df_train['target'], test_size=0.2)\n",
    "# Word2Vec\n",
    "X_train_tok = [nltk.word_tokenize(i) for i in X_train]\n",
    "X_test_tok = [nltk.word_tokenize(i) for i in X_test]"
   ]
  },
  {
   "cell_type": "code",
   "execution_count": 16,
   "id": "be6f89fc",
   "metadata": {},
   "outputs": [],
   "source": [
    "# Bag of words TD-IDF\n",
    "tfidf = TfidfVectorizer(use_idf=True)\n",
    "X_train_vec = tfidf.fit_transform(X_train)\n",
    "X_test_vec = tfidf.transform(X_test)"
   ]
  },
  {
   "cell_type": "code",
   "execution_count": 17,
   "id": "cc8420c9",
   "metadata": {},
   "outputs": [],
   "source": [
    "test_text_vec = tfidf.transform(test_text)"
   ]
  },
  {
   "cell_type": "code",
   "execution_count": 18,
   "id": "55979a98",
   "metadata": {},
   "outputs": [],
   "source": [
    "# Word2Vec\n",
    "#building Word2Vec model\n",
    "model1 = Word2Vec(df_train['clean_text'], min_count=1,\n",
    "                 vector_size=100, window=5)\n",
    "# Skip Gram model\n",
    "model2 = Word2Vec(df_train['clean_text'], min_count=1,\n",
    "                 vector_size=100, window=5, sg=1)"
   ]
  },
  {
   "cell_type": "code",
   "execution_count": 19,
   "id": "3866acaf",
   "metadata": {},
   "outputs": [],
   "source": [
    "w2v_model = Word2Vec(X_train_tok, vector_size=100,\n",
    "                    window=5, min_count=2)"
   ]
  },
  {
   "cell_type": "code",
   "execution_count": 20,
   "id": "10dd0a54",
   "metadata": {},
   "outputs": [
    {
     "name": "stdout",
     "output_type": "stream",
     "text": [
      "[[768  84]\n",
      " [239 432]]\n"
     ]
    }
   ],
   "source": [
    "# Naive Bayes with TF-IDF data\n",
    "nb_tf = MultinomialNB()\n",
    "nb_tf.fit(X_train_vec, y_train)\n",
    "nb_pred = nb_tf.predict(X_test_vec)\n",
    "print(confusion_matrix(y_test, nb_pred))"
   ]
  },
  {
   "cell_type": "code",
   "execution_count": 21,
   "id": "36adcdc4",
   "metadata": {},
   "outputs": [
    {
     "name": "stdout",
     "output_type": "stream",
     "text": [
      "0.7879185817465528\n"
     ]
    }
   ],
   "source": [
    "print(accuracy_score(y_test, nb_pred))"
   ]
  },
  {
   "cell_type": "code",
   "execution_count": 56,
   "id": "8f090dc0",
   "metadata": {},
   "outputs": [],
   "source": [
    "final_test_pred = nb_tf.predict(test_text_vec)"
   ]
  },
  {
   "cell_type": "code",
   "execution_count": 59,
   "id": "605a45f5",
   "metadata": {},
   "outputs": [
    {
     "data": {
      "text/html": [
       "<div>\n",
       "<style scoped>\n",
       "    .dataframe tbody tr th:only-of-type {\n",
       "        vertical-align: middle;\n",
       "    }\n",
       "\n",
       "    .dataframe tbody tr th {\n",
       "        vertical-align: top;\n",
       "    }\n",
       "\n",
       "    .dataframe thead th {\n",
       "        text-align: right;\n",
       "    }\n",
       "</style>\n",
       "<table border=\"1\" class=\"dataframe\">\n",
       "  <thead>\n",
       "    <tr style=\"text-align: right;\">\n",
       "      <th></th>\n",
       "      <th>id</th>\n",
       "      <th>target</th>\n",
       "    </tr>\n",
       "  </thead>\n",
       "  <tbody>\n",
       "    <tr>\n",
       "      <th>0</th>\n",
       "      <td>0</td>\n",
       "      <td>1</td>\n",
       "    </tr>\n",
       "    <tr>\n",
       "      <th>1</th>\n",
       "      <td>2</td>\n",
       "      <td>0</td>\n",
       "    </tr>\n",
       "    <tr>\n",
       "      <th>2</th>\n",
       "      <td>3</td>\n",
       "      <td>1</td>\n",
       "    </tr>\n",
       "    <tr>\n",
       "      <th>3</th>\n",
       "      <td>9</td>\n",
       "      <td>1</td>\n",
       "    </tr>\n",
       "    <tr>\n",
       "      <th>4</th>\n",
       "      <td>11</td>\n",
       "      <td>1</td>\n",
       "    </tr>\n",
       "  </tbody>\n",
       "</table>\n",
       "</div>"
      ],
      "text/plain": [
       "   id  target\n",
       "0   0       1\n",
       "1   2       0\n",
       "2   3       1\n",
       "3   9       1\n",
       "4  11       1"
      ]
     },
     "execution_count": 59,
     "metadata": {},
     "output_type": "execute_result"
    }
   ],
   "source": [
    "submission1 = pd.DataFrame()\n",
    "submission1['id'] = df_test['id']\n",
    "submission1['target'] = final_test_pred\n",
    "submission1.head()"
   ]
  },
  {
   "cell_type": "code",
   "execution_count": 60,
   "id": "fa4948fe",
   "metadata": {},
   "outputs": [],
   "source": [
    "submission1.to_csv(\"C:\\\\Users\\\\boydd\\\\Downloads\\\\NLP_Submission1.csv\", index=False)"
   ]
  },
  {
   "cell_type": "code",
   "execution_count": 49,
   "id": "27abea9e",
   "metadata": {},
   "outputs": [],
   "source": [
    "from sklearn.ensemble import GradientBoostingClassifier"
   ]
  },
  {
   "cell_type": "code",
   "execution_count": 50,
   "id": "c9eba829",
   "metadata": {},
   "outputs": [
    {
     "name": "stdout",
     "output_type": "stream",
     "text": [
      "[[828  62]\n",
      " [309 324]]\n",
      "0.7564018384766907\n"
     ]
    }
   ],
   "source": [
    "gbc = GradientBoostingClassifier()\n",
    "gbc.fit(X_train_vec, y_train)\n",
    "gb_pred = gbc.predict(X_test_vec)\n",
    "print(confusion_matrix(y_test, gb_pred))\n",
    "print(accuracy_score(y_test, gb_pred))"
   ]
  },
  {
   "cell_type": "code",
   "execution_count": 61,
   "id": "765294ff",
   "metadata": {},
   "outputs": [],
   "source": [
    "from sklearn.ensemble import RandomForestClassifier\n",
    "from sklearn.model_selection import GridSearchCV, RandomizedSearchCV"
   ]
  },
  {
   "cell_type": "code",
   "execution_count": 52,
   "id": "0a12350e",
   "metadata": {},
   "outputs": [
    {
     "name": "stdout",
     "output_type": "stream",
     "text": [
      "[[806  84]\n",
      " [254 379]]\n",
      "0.778069599474721\n"
     ]
    }
   ],
   "source": [
    "rf = RandomForestClassifier()\n",
    "rf.fit(X_train_vec, y_train)\n",
    "rf_pred = rf.predict(X_test_vec)\n",
    "print(confusion_matrix(y_test, rf_pred))\n",
    "print(accuracy_score(y_test, rf_pred))"
   ]
  },
  {
   "cell_type": "code",
   "execution_count": 79,
   "id": "ffa83428",
   "metadata": {},
   "outputs": [],
   "source": [
    "# RF hyperparameter tuning\n",
    "param_grid = {\n",
    "    'n_estimators': [15, 25, 50],\n",
    "    'max_features': ['sqrt'],\n",
    "    'max_depth': [4,6,None],\n",
    "    'max_leaf_nodes': [6,9,12]\n",
    "}"
   ]
  },
  {
   "cell_type": "code",
   "execution_count": 80,
   "id": "e695c276",
   "metadata": {},
   "outputs": [
    {
     "name": "stdout",
     "output_type": "stream",
     "text": [
      "{'max_depth': None, 'max_features': 'sqrt', 'max_leaf_nodes': 12, 'n_estimators': 50}\n"
     ]
    }
   ],
   "source": [
    "grid_search_rf = GridSearchCV(RandomForestClassifier(),\n",
    "                             param_grid=param_grid)\n",
    "grid_search_rf.fit(X_train_vec, y_train)\n",
    "print(grid_search_rf.best_params_)"
   ]
  },
  {
   "cell_type": "code",
   "execution_count": 93,
   "id": "be5c61d5",
   "metadata": {},
   "outputs": [],
   "source": [
    "from sklearn.neural_network import MLPClassifier"
   ]
  },
  {
   "cell_type": "code",
   "execution_count": 94,
   "id": "12a49321",
   "metadata": {},
   "outputs": [
    {
     "name": "stdout",
     "output_type": "stream",
     "text": [
      "[[684 206]\n",
      " [185 448]]\n",
      "0.7432698621142482\n"
     ]
    }
   ],
   "source": [
    "mlp = MLPClassifier()\n",
    "mlp.fit(X_train_vec, y_train)\n",
    "mlp_pred = mlp.predict(X_test_vec)\n",
    "print(confusion_matrix(y_test, mlp_pred))\n",
    "print(accuracy_score(y_test, mlp_pred))"
   ]
  },
  {
   "cell_type": "code",
   "execution_count": 66,
   "id": "7203349c",
   "metadata": {},
   "outputs": [
    {
     "data": {
      "text/html": [
       "<div>\n",
       "<style scoped>\n",
       "    .dataframe tbody tr th:only-of-type {\n",
       "        vertical-align: middle;\n",
       "    }\n",
       "\n",
       "    .dataframe tbody tr th {\n",
       "        vertical-align: top;\n",
       "    }\n",
       "\n",
       "    .dataframe thead th {\n",
       "        text-align: right;\n",
       "    }\n",
       "</style>\n",
       "<table border=\"1\" class=\"dataframe\">\n",
       "  <thead>\n",
       "    <tr style=\"text-align: right;\">\n",
       "      <th></th>\n",
       "      <th>id</th>\n",
       "      <th>keyword</th>\n",
       "      <th>location</th>\n",
       "      <th>text</th>\n",
       "    </tr>\n",
       "  </thead>\n",
       "  <tbody>\n",
       "    <tr>\n",
       "      <th>0</th>\n",
       "      <td>0</td>\n",
       "      <td>NaN</td>\n",
       "      <td>NaN</td>\n",
       "      <td>Just happened a terrible car crash</td>\n",
       "    </tr>\n",
       "    <tr>\n",
       "      <th>1</th>\n",
       "      <td>2</td>\n",
       "      <td>NaN</td>\n",
       "      <td>NaN</td>\n",
       "      <td>Heard about #earthquake is different cities, s...</td>\n",
       "    </tr>\n",
       "    <tr>\n",
       "      <th>2</th>\n",
       "      <td>3</td>\n",
       "      <td>NaN</td>\n",
       "      <td>NaN</td>\n",
       "      <td>there is a forest fire at spot pond, geese are...</td>\n",
       "    </tr>\n",
       "    <tr>\n",
       "      <th>3</th>\n",
       "      <td>9</td>\n",
       "      <td>NaN</td>\n",
       "      <td>NaN</td>\n",
       "      <td>Apocalypse lighting. #Spokane #wildfires</td>\n",
       "    </tr>\n",
       "    <tr>\n",
       "      <th>4</th>\n",
       "      <td>11</td>\n",
       "      <td>NaN</td>\n",
       "      <td>NaN</td>\n",
       "      <td>Typhoon Soudelor kills 28 in China and Taiwan</td>\n",
       "    </tr>\n",
       "    <tr>\n",
       "      <th>...</th>\n",
       "      <td>...</td>\n",
       "      <td>...</td>\n",
       "      <td>...</td>\n",
       "      <td>...</td>\n",
       "    </tr>\n",
       "    <tr>\n",
       "      <th>3258</th>\n",
       "      <td>10861</td>\n",
       "      <td>NaN</td>\n",
       "      <td>NaN</td>\n",
       "      <td>EARTHQUAKE SAFETY LOS ANGELES ÛÒ SAFETY FASTE...</td>\n",
       "    </tr>\n",
       "    <tr>\n",
       "      <th>3259</th>\n",
       "      <td>10865</td>\n",
       "      <td>NaN</td>\n",
       "      <td>NaN</td>\n",
       "      <td>Storm in RI worse than last hurricane. My city...</td>\n",
       "    </tr>\n",
       "    <tr>\n",
       "      <th>3260</th>\n",
       "      <td>10868</td>\n",
       "      <td>NaN</td>\n",
       "      <td>NaN</td>\n",
       "      <td>Green Line derailment in Chicago http://t.co/U...</td>\n",
       "    </tr>\n",
       "    <tr>\n",
       "      <th>3261</th>\n",
       "      <td>10874</td>\n",
       "      <td>NaN</td>\n",
       "      <td>NaN</td>\n",
       "      <td>MEG issues Hazardous Weather Outlook (HWO) htt...</td>\n",
       "    </tr>\n",
       "    <tr>\n",
       "      <th>3262</th>\n",
       "      <td>10875</td>\n",
       "      <td>NaN</td>\n",
       "      <td>NaN</td>\n",
       "      <td>#CityofCalgary has activated its Municipal Eme...</td>\n",
       "    </tr>\n",
       "  </tbody>\n",
       "</table>\n",
       "<p>3263 rows × 4 columns</p>\n",
       "</div>"
      ],
      "text/plain": [
       "         id keyword location  \\\n",
       "0         0     NaN      NaN   \n",
       "1         2     NaN      NaN   \n",
       "2         3     NaN      NaN   \n",
       "3         9     NaN      NaN   \n",
       "4        11     NaN      NaN   \n",
       "...     ...     ...      ...   \n",
       "3258  10861     NaN      NaN   \n",
       "3259  10865     NaN      NaN   \n",
       "3260  10868     NaN      NaN   \n",
       "3261  10874     NaN      NaN   \n",
       "3262  10875     NaN      NaN   \n",
       "\n",
       "                                                   text  \n",
       "0                    Just happened a terrible car crash  \n",
       "1     Heard about #earthquake is different cities, s...  \n",
       "2     there is a forest fire at spot pond, geese are...  \n",
       "3              Apocalypse lighting. #Spokane #wildfires  \n",
       "4         Typhoon Soudelor kills 28 in China and Taiwan  \n",
       "...                                                 ...  \n",
       "3258  EARTHQUAKE SAFETY LOS ANGELES ÛÒ SAFETY FASTE...  \n",
       "3259  Storm in RI worse than last hurricane. My city...  \n",
       "3260  Green Line derailment in Chicago http://t.co/U...  \n",
       "3261  MEG issues Hazardous Weather Outlook (HWO) htt...  \n",
       "3262  #CityofCalgary has activated its Municipal Eme...  \n",
       "\n",
       "[3263 rows x 4 columns]"
      ]
     },
     "execution_count": 66,
     "metadata": {},
     "output_type": "execute_result"
    }
   ],
   "source": [
    "df_test"
   ]
  },
  {
   "cell_type": "code",
   "execution_count": 16,
   "id": "e00ad4f7",
   "metadata": {},
   "outputs": [],
   "source": [
    "# Pass the test data through this dataset to get\n",
    "# baseline accuracy score"
   ]
  },
  {
   "cell_type": "code",
   "execution_count": 8,
   "id": "7eb90027",
   "metadata": {},
   "outputs": [],
   "source": [
    "# Add hyperparameter tuning and more complex model\n",
    "# with keras\n",
    "from keras.models import Sequential\n",
    "from keras.layers import Dense, Activation, Dropout\n",
    "from keras.preprocessing import text, sequence\n",
    "from keras import utils\n",
    "from keras.layers import Flatten, Embedding"
   ]
  },
  {
   "cell_type": "code",
   "execution_count": 9,
   "id": "141452f1",
   "metadata": {},
   "outputs": [],
   "source": [
    "# For keras model, the input_dim is the input dimension\n",
    "# or X_train.shape[1]\n",
    "from keras.preprocessing.text import Tokenizer"
   ]
  },
  {
   "cell_type": "code",
   "execution_count": 20,
   "id": "b53d39ff",
   "metadata": {},
   "outputs": [],
   "source": [
    "import tensorflow as tf"
   ]
  },
  {
   "cell_type": "code",
   "execution_count": 51,
   "id": "3a75fa1b",
   "metadata": {},
   "outputs": [],
   "source": [
    "from keras.layers import Embedding\n",
    "from keras.layers import LSTM, BatchNormalization, GlobalMaxPool1D"
   ]
  },
  {
   "cell_type": "code",
   "execution_count": 55,
   "id": "d7a215c3",
   "metadata": {},
   "outputs": [],
   "source": [
    "from keras_preprocessing.sequence import pad_sequences\n",
    "from keras.preprocessing.text import one_hot"
   ]
  },
  {
   "cell_type": "code",
   "execution_count": 56,
   "id": "f53d8bdd",
   "metadata": {},
   "outputs": [],
   "source": [
    "tweets = df_train['text']\n",
    "labels = df_train['target']"
   ]
  },
  {
   "cell_type": "code",
   "execution_count": 125,
   "id": "3215aa09",
   "metadata": {},
   "outputs": [
    {
     "data": {
      "text/plain": [
       "[[8164, 7920, 1164, 8756, 2906, 9610, 1898, 731, 9139, 2844, 6814],\n",
       " [9763, 3934, 8370, 1609, 4037, 4307, 4659, 8220, 5823, 3365, 2521],\n",
       " [3365,\n",
       "  3624,\n",
       "  2844,\n",
       "  7319,\n",
       "  59,\n",
       "  617,\n",
       "  3605,\n",
       "  1512,\n",
       "  94,\n",
       "  1676,\n",
       "  8963,\n",
       "  5120,\n",
       "  5313,\n",
       "  94,\n",
       "  8963,\n",
       "  5120,\n",
       "  588,\n",
       "  9205],\n",
       " [3365, 9648, 2423, 3743, 1638],\n",
       " [3845,\n",
       "  8323,\n",
       "  3413,\n",
       "  3365,\n",
       "  6356,\n",
       "  2423,\n",
       "  3743,\n",
       "  2715,\n",
       "  7272,\n",
       "  9570,\n",
       "  8650,\n",
       "  1897,\n",
       "  4426,\n",
       "  6358,\n",
       "  8148,\n",
       "  6356,\n",
       "  2423,\n",
       "  3743,\n",
       "  8929],\n",
       " [3845,\n",
       "  8323,\n",
       "  3413,\n",
       "  3365,\n",
       "  6356,\n",
       "  2423,\n",
       "  3743,\n",
       "  9951,\n",
       "  7272,\n",
       "  9570,\n",
       "  8650,\n",
       "  1897,\n",
       "  4426,\n",
       "  6358,\n",
       "  8148,\n",
       "  6356,\n",
       "  2423,\n",
       "  3743,\n",
       "  233],\n",
       " [3845,\n",
       "  8323,\n",
       "  3413,\n",
       "  3365,\n",
       "  6356,\n",
       "  2423,\n",
       "  3743,\n",
       "  5710,\n",
       "  7272,\n",
       "  9570,\n",
       "  8650,\n",
       "  1897,\n",
       "  4426,\n",
       "  6358,\n",
       "  8148,\n",
       "  6356,\n",
       "  2423,\n",
       "  3743,\n",
       "  1647],\n",
       " [3769, 4443, 3668, 2265, 9610, 2635, 7457, 3365],\n",
       " [3845,\n",
       "  8323,\n",
       "  3413,\n",
       "  3365,\n",
       "  6356,\n",
       "  2423,\n",
       "  3743,\n",
       "  5788,\n",
       "  7272,\n",
       "  9570,\n",
       "  8650,\n",
       "  1897,\n",
       "  4426,\n",
       "  6358,\n",
       "  8148,\n",
       "  6356,\n",
       "  2423,\n",
       "  3743,\n",
       "  3673],\n",
       " [3845,\n",
       "  8323,\n",
       "  3413,\n",
       "  3365,\n",
       "  6356,\n",
       "  2423,\n",
       "  3743,\n",
       "  5788,\n",
       "  7272,\n",
       "  9570,\n",
       "  8650,\n",
       "  1897,\n",
       "  4426,\n",
       "  6358,\n",
       "  8148,\n",
       "  6356,\n",
       "  2423,\n",
       "  3743,\n",
       "  3673]]"
      ]
     },
     "execution_count": 125,
     "metadata": {},
     "output_type": "execute_result"
    }
   ],
   "source": [
    "VOC_SIZE = 10000\n",
    "onehot_vector = [one_hot(words, VOC_SIZE) for words in tweets]\n",
    "onehot_vector[110:120]"
   ]
  },
  {
   "cell_type": "code",
   "execution_count": 126,
   "id": "128ae530",
   "metadata": {},
   "outputs": [],
   "source": [
    "onehot_test = [one_hot(words, VOC_SIZE) for words in df_test['text']]"
   ]
  },
  {
   "cell_type": "code",
   "execution_count": 59,
   "id": "110faa3f",
   "metadata": {},
   "outputs": [
    {
     "data": {
      "text/plain": [
       "7613"
      ]
     },
     "execution_count": 59,
     "metadata": {},
     "output_type": "execute_result"
    }
   ],
   "source": [
    "word_length = []\n",
    "for i in onehot_vector:\n",
    "    word_length.append(len(i))\n",
    "len(word_length)"
   ]
  },
  {
   "cell_type": "code",
   "execution_count": 60,
   "id": "5113c279",
   "metadata": {},
   "outputs": [
    {
     "data": {
      "text/plain": [
       "33"
      ]
     },
     "execution_count": 60,
     "metadata": {},
     "output_type": "execute_result"
    }
   ],
   "source": [
    "max(word_length)"
   ]
  },
  {
   "cell_type": "code",
   "execution_count": 127,
   "id": "d944c5e8",
   "metadata": {},
   "outputs": [
    {
     "data": {
      "text/plain": [
       "array([[4632, 1241, 5945, ..., 1601,    0,    0],\n",
       "       [6513, 4059, 9247, ...,    0,    0,    0],\n",
       "       [5945,  264, 3895, ..., 5743, 5945, 8691],\n",
       "       ...,\n",
       "       [9271,  775,  360, ..., 3743, 8024,    0],\n",
       "       [6305, 4958, 1317, ..., 9313, 5737, 7361],\n",
       "       [2844, 5297, 2922, ..., 2423, 3743, 4373]])"
      ]
     },
     "execution_count": 127,
     "metadata": {},
     "output_type": "execute_result"
    }
   ],
   "source": [
    "SENTENCE_LENGTH = 15\n",
    "embedded_docs = pad_sequences(onehot_vector, padding=\"post\", maxlen=SENTENCE_LENGTH)\n",
    "embedded_docs"
   ]
  },
  {
   "cell_type": "code",
   "execution_count": 128,
   "id": "69030154",
   "metadata": {},
   "outputs": [],
   "source": [
    "embedded_test = pad_sequences(onehot_test, padding=\"post\", maxlen=SENTENCE_LENGTH)"
   ]
  },
  {
   "cell_type": "code",
   "execution_count": 129,
   "id": "90e8c50b",
   "metadata": {},
   "outputs": [],
   "source": [
    "embed_train, embed_test, y_train, y_test = train_test_split(embedded_docs, labels, test_size=0.3)"
   ]
  },
  {
   "cell_type": "code",
   "execution_count": null,
   "id": "6a55547f",
   "metadata": {},
   "outputs": [],
   "source": [
    "# Repeat with training and testing data"
   ]
  },
  {
   "cell_type": "code",
   "execution_count": 171,
   "id": "a4963cd6",
   "metadata": {},
   "outputs": [],
   "source": [
    "def model():\n",
    "    VECTOR_FEATURES = 32\n",
    "    lstm_model = Sequential()\n",
    "    lstm_model.add(Embedding(VOC_SIZE,\n",
    "                            VECTOR_FEATURES,\n",
    "                            input_length=SENTENCE_LENGTH))\n",
    "    lstm_model.add(LSTM(32, return_sequences=True))\n",
    "    lstm_model.add(GlobalMaxPool1D())\n",
    "    lstm_model.add(BatchNormalization())\n",
    "    lstm_model.add(Dropout(0.5))\n",
    "    lstm_model.add(Dense(10, activation=\"relu\"))\n",
    "    lstm_model.add(Dropout(0.25))\n",
    "    lstm_model.add(Dense(10, activation=\"relu\"))\n",
    "    lstm_model.add(Dropout(0.25))\n",
    "    lstm_model.add(Dense(1, activation=\"sigmoid\"))\n",
    "    return lstm_model"
   ]
  },
  {
   "cell_type": "code",
   "execution_count": 172,
   "id": "d3082532",
   "metadata": {},
   "outputs": [
    {
     "name": "stdout",
     "output_type": "stream",
     "text": [
      "Model: \"sequential_14\"\n",
      "_________________________________________________________________\n",
      " Layer (type)                Output Shape              Param #   \n",
      "=================================================================\n",
      " embedding_14 (Embedding)    (None, 15, 32)            320000    \n",
      "                                                                 \n",
      " lstm_14 (LSTM)              (None, 15, 32)            8320      \n",
      "                                                                 \n",
      " global_max_pooling1d_14 (Gl  (None, 32)               0         \n",
      " obalMaxPooling1D)                                               \n",
      "                                                                 \n",
      " batch_normalization_14 (Bat  (None, 32)               128       \n",
      " chNormalization)                                                \n",
      "                                                                 \n",
      " dropout_32 (Dropout)        (None, 32)                0         \n",
      "                                                                 \n",
      " dense_35 (Dense)            (None, 10)                330       \n",
      "                                                                 \n",
      " dropout_33 (Dropout)        (None, 10)                0         \n",
      "                                                                 \n",
      " dense_36 (Dense)            (None, 10)                110       \n",
      "                                                                 \n",
      " dropout_34 (Dropout)        (None, 10)                0         \n",
      "                                                                 \n",
      " dense_37 (Dense)            (None, 1)                 11        \n",
      "                                                                 \n",
      "=================================================================\n",
      "Total params: 328,899\n",
      "Trainable params: 328,835\n",
      "Non-trainable params: 64\n",
      "_________________________________________________________________\n"
     ]
    }
   ],
   "source": [
    "lstm_model = model()\n",
    "lstm_model.compile(optimizer=\"adam\", loss=\"binary_crossentropy\", metrics=[\"accuracy\"])\n",
    "lstm_model.summary()"
   ]
  },
  {
   "cell_type": "code",
   "execution_count": 173,
   "id": "8dac2d38",
   "metadata": {},
   "outputs": [
    {
     "name": "stdout",
     "output_type": "stream",
     "text": [
      "Epoch 1/8\n",
      "WARNING:tensorflow:AutoGraph could not transform <function Model.make_train_function.<locals>.train_function at 0x0000012FDC11EA60> and will run it as-is.\n",
      "Please report this to the TensorFlow team. When filing the bug, set the verbosity to 10 (on Linux, `export AUTOGRAPH_VERBOSITY=10`) and attach the full output.\n",
      "Cause: closure mismatch, requested ('self', 'step_function'), but source function had ()\n",
      "To silence this warning, decorate the function with @tf.autograph.experimental.do_not_convert\n",
      "WARNING: AutoGraph could not transform <function Model.make_train_function.<locals>.train_function at 0x0000012FDC11EA60> and will run it as-is.\n",
      "Please report this to the TensorFlow team. When filing the bug, set the verbosity to 10 (on Linux, `export AUTOGRAPH_VERBOSITY=10`) and attach the full output.\n",
      "Cause: closure mismatch, requested ('self', 'step_function'), but source function had ()\n",
      "To silence this warning, decorate the function with @tf.autograph.experimental.do_not_convert\n",
      "167/167 [==============================] - ETA: 0s - loss: 0.6645 - accuracy: 0.5939WARNING:tensorflow:AutoGraph could not transform <function Model.make_test_function.<locals>.test_function at 0x0000012FDC133C10> and will run it as-is.\n",
      "Please report this to the TensorFlow team. When filing the bug, set the verbosity to 10 (on Linux, `export AUTOGRAPH_VERBOSITY=10`) and attach the full output.\n",
      "Cause: closure mismatch, requested ('self', 'step_function'), but source function had ()\n",
      "To silence this warning, decorate the function with @tf.autograph.experimental.do_not_convert\n",
      "WARNING: AutoGraph could not transform <function Model.make_test_function.<locals>.test_function at 0x0000012FDC133C10> and will run it as-is.\n",
      "Please report this to the TensorFlow team. When filing the bug, set the verbosity to 10 (on Linux, `export AUTOGRAPH_VERBOSITY=10`) and attach the full output.\n",
      "Cause: closure mismatch, requested ('self', 'step_function'), but source function had ()\n",
      "To silence this warning, decorate the function with @tf.autograph.experimental.do_not_convert\n",
      "167/167 [==============================] - 4s 12ms/step - loss: 0.6645 - accuracy: 0.5939 - val_loss: 0.6690 - val_accuracy: 0.5963\n",
      "Epoch 2/8\n",
      "167/167 [==============================] - 2s 9ms/step - loss: 0.5514 - accuracy: 0.7352 - val_loss: 0.6061 - val_accuracy: 0.7596\n",
      "Epoch 3/8\n",
      "167/167 [==============================] - 2s 9ms/step - loss: 0.4195 - accuracy: 0.8242 - val_loss: 0.5489 - val_accuracy: 0.7312\n",
      "Epoch 4/8\n",
      "167/167 [==============================] - 2s 9ms/step - loss: 0.3141 - accuracy: 0.8801 - val_loss: 0.6046 - val_accuracy: 0.7574\n",
      "Epoch 5/8\n",
      "167/167 [==============================] - 2s 9ms/step - loss: 0.2559 - accuracy: 0.9092 - val_loss: 0.7966 - val_accuracy: 0.6835\n",
      "Epoch 6/8\n",
      "167/167 [==============================] - 2s 9ms/step - loss: 0.1951 - accuracy: 0.9302 - val_loss: 0.8149 - val_accuracy: 0.7452\n",
      "Epoch 7/8\n",
      "167/167 [==============================] - 2s 9ms/step - loss: 0.1709 - accuracy: 0.9445 - val_loss: 0.9435 - val_accuracy: 0.7456\n",
      "Epoch 8/8\n",
      "167/167 [==============================] - 2s 9ms/step - loss: 0.1576 - accuracy: 0.9471 - val_loss: 1.0451 - val_accuracy: 0.7334\n"
     ]
    }
   ],
   "source": [
    "history = lstm_model.fit(embed_train, y_train, validation_data=(embed_test, y_test), epochs=8, batch_size=32)"
   ]
  },
  {
   "cell_type": "code",
   "execution_count": 174,
   "id": "cb88b212",
   "metadata": {},
   "outputs": [],
   "source": [
    "lstm_pred = lstm_model(embedded_test)"
   ]
  },
  {
   "cell_type": "code",
   "execution_count": 175,
   "id": "874d5e10",
   "metadata": {},
   "outputs": [],
   "source": [
    "lstm_preds = lstm_pred.numpy()"
   ]
  },
  {
   "cell_type": "code",
   "execution_count": 176,
   "id": "4353f757",
   "metadata": {},
   "outputs": [],
   "source": [
    "for i in range(len(lstm_preds)):\n",
    "    if lstm_preds[i] >= 0.5:\n",
    "        lstm_preds[i] = math.trunc(int(1))\n",
    "    else:\n",
    "        lstm_preds[i] = math.trunc(int(0))"
   ]
  },
  {
   "cell_type": "code",
   "execution_count": 158,
   "id": "807ec90c",
   "metadata": {},
   "outputs": [
    {
     "name": "stdout",
     "output_type": "stream",
     "text": [
      "WARNING:tensorflow:AutoGraph could not transform <function Model.make_predict_function.<locals>.predict_function at 0x0000012FD9C46700> and will run it as-is.\n",
      "Please report this to the TensorFlow team. When filing the bug, set the verbosity to 10 (on Linux, `export AUTOGRAPH_VERBOSITY=10`) and attach the full output.\n",
      "Cause: closure mismatch, requested ('self', 'step_function'), but source function had ()\n",
      "To silence this warning, decorate the function with @tf.autograph.experimental.do_not_convert\n",
      "WARNING: AutoGraph could not transform <function Model.make_predict_function.<locals>.predict_function at 0x0000012FD9C46700> and will run it as-is.\n",
      "Please report this to the TensorFlow team. When filing the bug, set the verbosity to 10 (on Linux, `export AUTOGRAPH_VERBOSITY=10`) and attach the full output.\n",
      "Cause: closure mismatch, requested ('self', 'step_function'), but source function had ()\n",
      "To silence this warning, decorate the function with @tf.autograph.experimental.do_not_convert\n",
      "102/102 [==============================] - 1s 4ms/step\n"
     ]
    }
   ],
   "source": [
    "lstm_pred2 = lstm_model.predict(embedded_test)"
   ]
  },
  {
   "cell_type": "code",
   "execution_count": 99,
   "id": "9f22c4b4",
   "metadata": {},
   "outputs": [],
   "source": [
    "pd.set_option('precision', 0)"
   ]
  },
  {
   "cell_type": "code",
   "execution_count": 177,
   "id": "4e273d33",
   "metadata": {},
   "outputs": [],
   "source": [
    "submission2 = pd.DataFrame()\n",
    "submission2['id'] = df_test['id']\n",
    "submission2['target'] =lstm_preds\n",
    "submission2.round()\n",
    "submission2.head()\n",
    "submission2 = submission2.astype(int)"
   ]
  },
  {
   "cell_type": "code",
   "execution_count": 178,
   "id": "c4ea0f25",
   "metadata": {},
   "outputs": [
    {
     "data": {
      "text/plain": [
       "0    1966\n",
       "1    1297\n",
       "Name: target, dtype: int64"
      ]
     },
     "execution_count": 178,
     "metadata": {},
     "output_type": "execute_result"
    }
   ],
   "source": [
    "submission2['target'].value_counts()"
   ]
  },
  {
   "cell_type": "code",
   "execution_count": 186,
   "id": "312528cb",
   "metadata": {},
   "outputs": [],
   "source": [
    "# Build CNN\n",
    "def build_cnn():\n",
    "    cnn = Sequential([\n",
    "        Embedding(VOC_SIZE, output_dim=32, input_length = SENTENCE_LENGTH),\n",
    "        layers.Conv1D(128, kernel_size=3, activation=\"relu\"),\n",
    "        layers.GlobalAveragePooling1D(),\n",
    "        Dense(64, activation=\"relu\"),\n",
    "        layers.BatchNormalization(),\n",
    "        Dense(32, activation=\"relu\"),\n",
    "        layers.Dropout(0.25),\n",
    "        Dense(1, activation=\"sigmoid\")\n",
    "    ])\n",
    "    return cnn"
   ]
  },
  {
   "cell_type": "code",
   "execution_count": 187,
   "id": "9e320a61",
   "metadata": {},
   "outputs": [
    {
     "name": "stdout",
     "output_type": "stream",
     "text": [
      "Model: \"sequential_17\"\n",
      "_________________________________________________________________\n",
      " Layer (type)                Output Shape              Param #   \n",
      "=================================================================\n",
      " embedding_17 (Embedding)    (None, 15, 32)            320000    \n",
      "                                                                 \n",
      " conv1d_2 (Conv1D)           (None, 13, 128)           12416     \n",
      "                                                                 \n",
      " global_average_pooling1d_2   (None, 128)              0         \n",
      " (GlobalAveragePooling1D)                                        \n",
      "                                                                 \n",
      " dense_41 (Dense)            (None, 64)                8256      \n",
      "                                                                 \n",
      " batch_normalization_16 (Bat  (None, 64)               256       \n",
      " chNormalization)                                                \n",
      "                                                                 \n",
      " dense_42 (Dense)            (None, 32)                2080      \n",
      "                                                                 \n",
      " dropout_35 (Dropout)        (None, 32)                0         \n",
      "                                                                 \n",
      " dense_43 (Dense)            (None, 1)                 33        \n",
      "                                                                 \n",
      "=================================================================\n",
      "Total params: 343,041\n",
      "Trainable params: 342,913\n",
      "Non-trainable params: 128\n",
      "_________________________________________________________________\n"
     ]
    }
   ],
   "source": [
    "cnn_model = build_cnn()\n",
    "cnn_model.compile(optimizer=\"adam\", loss=\"binary_crossentropy\", metrics=[\"accuracy\"])\n",
    "cnn_model.summary()"
   ]
  },
  {
   "cell_type": "code",
   "execution_count": 188,
   "id": "25bfd955",
   "metadata": {},
   "outputs": [
    {
     "name": "stdout",
     "output_type": "stream",
     "text": [
      "Epoch 1/8\n",
      "WARNING:tensorflow:AutoGraph could not transform <function Model.make_train_function.<locals>.train_function at 0x0000012FD2B3FE50> and will run it as-is.\n",
      "Please report this to the TensorFlow team. When filing the bug, set the verbosity to 10 (on Linux, `export AUTOGRAPH_VERBOSITY=10`) and attach the full output.\n",
      "Cause: closure mismatch, requested ('self', 'step_function'), but source function had ()\n",
      "To silence this warning, decorate the function with @tf.autograph.experimental.do_not_convert\n",
      "WARNING: AutoGraph could not transform <function Model.make_train_function.<locals>.train_function at 0x0000012FD2B3FE50> and will run it as-is.\n",
      "Please report this to the TensorFlow team. When filing the bug, set the verbosity to 10 (on Linux, `export AUTOGRAPH_VERBOSITY=10`) and attach the full output.\n",
      "Cause: closure mismatch, requested ('self', 'step_function'), but source function had ()\n",
      "To silence this warning, decorate the function with @tf.autograph.experimental.do_not_convert\n",
      "165/167 [============================>.] - ETA: 0s - loss: 0.5741 - accuracy: 0.7047WARNING:tensorflow:AutoGraph could not transform <function Model.make_test_function.<locals>.test_function at 0x0000012FD2D78CA0> and will run it as-is.\n",
      "Please report this to the TensorFlow team. When filing the bug, set the verbosity to 10 (on Linux, `export AUTOGRAPH_VERBOSITY=10`) and attach the full output.\n",
      "Cause: closure mismatch, requested ('self', 'step_function'), but source function had ()\n",
      "To silence this warning, decorate the function with @tf.autograph.experimental.do_not_convert\n",
      "WARNING: AutoGraph could not transform <function Model.make_test_function.<locals>.test_function at 0x0000012FD2D78CA0> and will run it as-is.\n",
      "Please report this to the TensorFlow team. When filing the bug, set the verbosity to 10 (on Linux, `export AUTOGRAPH_VERBOSITY=10`) and attach the full output.\n",
      "Cause: closure mismatch, requested ('self', 'step_function'), but source function had ()\n",
      "To silence this warning, decorate the function with @tf.autograph.experimental.do_not_convert\n",
      "167/167 [==============================] - 2s 8ms/step - loss: 0.5745 - accuracy: 0.7048 - val_loss: 0.6359 - val_accuracy: 0.7452\n",
      "Epoch 2/8\n",
      "167/167 [==============================] - 1s 7ms/step - loss: 0.3602 - accuracy: 0.8593 - val_loss: 0.5856 - val_accuracy: 0.7198\n",
      "Epoch 3/8\n",
      "167/167 [==============================] - 1s 6ms/step - loss: 0.2126 - accuracy: 0.9197 - val_loss: 0.5282 - val_accuracy: 0.7469\n",
      "Epoch 4/8\n",
      "167/167 [==============================] - 1s 7ms/step - loss: 0.1348 - accuracy: 0.9499 - val_loss: 0.9331 - val_accuracy: 0.6445\n",
      "Epoch 5/8\n",
      "167/167 [==============================] - 1s 6ms/step - loss: 0.0878 - accuracy: 0.9673 - val_loss: 1.0723 - val_accuracy: 0.7412\n",
      "Epoch 6/8\n",
      "167/167 [==============================] - 1s 6ms/step - loss: 0.0536 - accuracy: 0.9805 - val_loss: 1.2032 - val_accuracy: 0.7049\n",
      "Epoch 7/8\n",
      "167/167 [==============================] - 1s 6ms/step - loss: 0.0510 - accuracy: 0.9812 - val_loss: 1.2562 - val_accuracy: 0.7426\n",
      "Epoch 8/8\n",
      "167/167 [==============================] - 1s 6ms/step - loss: 0.0567 - accuracy: 0.9805 - val_loss: 1.3498 - val_accuracy: 0.7513\n"
     ]
    }
   ],
   "source": [
    "history_cnn = cnn_model.fit(embed_train, y_train, validation_data=(embed_test, y_test), epochs=8, batch_size=32)"
   ]
  },
  {
   "cell_type": "code",
   "execution_count": 189,
   "id": "19ac4908",
   "metadata": {},
   "outputs": [
    {
     "name": "stdout",
     "output_type": "stream",
     "text": [
      "WARNING:tensorflow:AutoGraph could not transform <function Model.make_predict_function.<locals>.predict_function at 0x0000012FDC0E1430> and will run it as-is.\n",
      "Please report this to the TensorFlow team. When filing the bug, set the verbosity to 10 (on Linux, `export AUTOGRAPH_VERBOSITY=10`) and attach the full output.\n",
      "Cause: closure mismatch, requested ('self', 'step_function'), but source function had ()\n",
      "To silence this warning, decorate the function with @tf.autograph.experimental.do_not_convert\n",
      "WARNING: AutoGraph could not transform <function Model.make_predict_function.<locals>.predict_function at 0x0000012FDC0E1430> and will run it as-is.\n",
      "Please report this to the TensorFlow team. When filing the bug, set the verbosity to 10 (on Linux, `export AUTOGRAPH_VERBOSITY=10`) and attach the full output.\n",
      "Cause: closure mismatch, requested ('self', 'step_function'), but source function had ()\n",
      "To silence this warning, decorate the function with @tf.autograph.experimental.do_not_convert\n",
      "102/102 [==============================] - 0s 1ms/step\n"
     ]
    }
   ],
   "source": [
    "cnn_pred = (cnn_model.predict(embedded_test) > 0.5).reshape(-1,).astype(int)"
   ]
  },
  {
   "cell_type": "code",
   "execution_count": 190,
   "id": "da786baa",
   "metadata": {},
   "outputs": [
    {
     "data": {
      "text/plain": [
       "array([0, 1, 1, ..., 1, 1, 0])"
      ]
     },
     "execution_count": 190,
     "metadata": {},
     "output_type": "execute_result"
    }
   ],
   "source": [
    "cnn_pred"
   ]
  },
  {
   "cell_type": "code",
   "execution_count": 193,
   "id": "674a3e97",
   "metadata": {},
   "outputs": [
    {
     "data": {
      "text/html": [
       "<div>\n",
       "<style scoped>\n",
       "    .dataframe tbody tr th:only-of-type {\n",
       "        vertical-align: middle;\n",
       "    }\n",
       "\n",
       "    .dataframe tbody tr th {\n",
       "        vertical-align: top;\n",
       "    }\n",
       "\n",
       "    .dataframe thead th {\n",
       "        text-align: right;\n",
       "    }\n",
       "</style>\n",
       "<table border=\"1\" class=\"dataframe\">\n",
       "  <thead>\n",
       "    <tr style=\"text-align: right;\">\n",
       "      <th></th>\n",
       "      <th>id</th>\n",
       "      <th>target</th>\n",
       "    </tr>\n",
       "  </thead>\n",
       "  <tbody>\n",
       "    <tr>\n",
       "      <th>0</th>\n",
       "      <td>0</td>\n",
       "      <td>0</td>\n",
       "    </tr>\n",
       "    <tr>\n",
       "      <th>1</th>\n",
       "      <td>2</td>\n",
       "      <td>1</td>\n",
       "    </tr>\n",
       "    <tr>\n",
       "      <th>2</th>\n",
       "      <td>3</td>\n",
       "      <td>1</td>\n",
       "    </tr>\n",
       "    <tr>\n",
       "      <th>3</th>\n",
       "      <td>9</td>\n",
       "      <td>1</td>\n",
       "    </tr>\n",
       "    <tr>\n",
       "      <th>4</th>\n",
       "      <td>11</td>\n",
       "      <td>1</td>\n",
       "    </tr>\n",
       "  </tbody>\n",
       "</table>\n",
       "</div>"
      ],
      "text/plain": [
       "   id  target\n",
       "0   0       0\n",
       "1   2       1\n",
       "2   3       1\n",
       "3   9       1\n",
       "4  11       1"
      ]
     },
     "execution_count": 193,
     "metadata": {},
     "output_type": "execute_result"
    }
   ],
   "source": [
    "cnn_sub = pd.DataFrame()\n",
    "cnn_sub['id'] = df_test['id']\n",
    "cnn_sub['target'] = cnn_pred\n",
    "cnn_sub.head()"
   ]
  },
  {
   "cell_type": "code",
   "execution_count": 194,
   "id": "08ea6202",
   "metadata": {},
   "outputs": [],
   "source": [
    "cnn_sub.to_csv(\"C:\\\\Users\\\\boydd\\\\Downloads\\\\NLP_Submission4.csv\", index=False)"
   ]
  },
  {
   "cell_type": "code",
   "execution_count": null,
   "id": "8b5b1bc2",
   "metadata": {},
   "outputs": [],
   "source": []
  }
 ],
 "metadata": {
  "kernelspec": {
   "display_name": "Python 3",
   "language": "python",
   "name": "python3"
  },
  "language_info": {
   "codemirror_mode": {
    "name": "ipython",
    "version": 3
   },
   "file_extension": ".py",
   "mimetype": "text/x-python",
   "name": "python",
   "nbconvert_exporter": "python",
   "pygments_lexer": "ipython3",
   "version": "3.8.8"
  }
 },
 "nbformat": 4,
 "nbformat_minor": 5
}
